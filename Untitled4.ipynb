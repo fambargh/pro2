{
  "nbformat": 4,
  "nbformat_minor": 0,
  "metadata": {
    "colab": {
      "name": "Untitled4.ipynb",
      "version": "0.3.2",
      "provenance": [],
      "collapsed_sections": [],
      "include_colab_link": true
    },
    "kernelspec": {
      "name": "python3",
      "display_name": "Python 3"
    },
    "accelerator": "GPU"
  },
  "cells": [
    {
      "cell_type": "markdown",
      "metadata": {
        "id": "view-in-github",
        "colab_type": "text"
      },
      "source": [
        "<a href=\"https://colab.research.google.com/github/fambargh/pro2/blob/master/Untitled4.ipynb\" target=\"_parent\"><img src=\"https://colab.research.google.com/assets/colab-badge.svg\" alt=\"Open In Colab\"/></a>"
      ]
    },
    {
      "cell_type": "code",
      "metadata": {
        "id": "x_z3YblPuYu4",
        "colab_type": "code",
        "outputId": "2ceddd50-933d-4c92-ef75-1dd6f1994feb",
        "colab": {
          "base_uri": "https://localhost:8080/",
          "height": 121
        }
      },
      "source": [
        "from google.colab import drive\n",
        "drive.mount('/content/drive')"
      ],
      "execution_count": 4,
      "outputs": [
        {
          "output_type": "stream",
          "text": [
            "Go to this URL in a browser: https://accounts.google.com/o/oauth2/auth?client_id=947318989803-6bn6qk8qdgf4n4g3pfee6491hc0brc4i.apps.googleusercontent.com&redirect_uri=urn%3Aietf%3Awg%3Aoauth%3A2.0%3Aoob&scope=email%20https%3A%2F%2Fwww.googleapis.com%2Fauth%2Fdocs.test%20https%3A%2F%2Fwww.googleapis.com%2Fauth%2Fdrive%20https%3A%2F%2Fwww.googleapis.com%2Fauth%2Fdrive.photos.readonly%20https%3A%2F%2Fwww.googleapis.com%2Fauth%2Fpeopleapi.readonly&response_type=code\n",
            "\n",
            "Enter your authorization code:\n",
            "··········\n",
            "Mounted at /content/drive\n"
          ],
          "name": "stdout"
        }
      ]
    },
    {
      "cell_type": "code",
      "metadata": {
        "id": "dBPjOMHv0huZ",
        "colab_type": "code",
        "colab": {}
      },
      "source": [
        "import os"
      ],
      "execution_count": 0,
      "outputs": []
    },
    {
      "cell_type": "code",
      "metadata": {
        "id": "BN3KjH940k3g",
        "colab_type": "code",
        "colab": {}
      },
      "source": [
        "m='/content/drive/My Drive/me'"
      ],
      "execution_count": 0,
      "outputs": []
    },
    {
      "cell_type": "code",
      "metadata": {
        "id": "Jg-DLqjW0um1",
        "colab_type": "code",
        "outputId": "bcf5a82b-9646-464b-ac85-1e68b790c768",
        "colab": {
          "base_uri": "https://localhost:8080/",
          "height": 34
        }
      },
      "source": [
        "train_dir=os.path.join(m,'train')\n",
        "validation_dir=os.path.join(m,'validation')\n",
        "test_dir=os.path.join(m,'test')\n",
        "print(train_dir)"
      ],
      "execution_count": 69,
      "outputs": [
        {
          "output_type": "stream",
          "text": [
            "/content/drive/My Drive/me/train\n"
          ],
          "name": "stdout"
        }
      ]
    },
    {
      "cell_type": "code",
      "metadata": {
        "id": "pnh9vWX5vZvI",
        "colab_type": "code",
        "outputId": "c5acca1d-1773-468c-ada8-02928d1b8790",
        "colab": {
          "base_uri": "https://localhost:8080/",
          "height": 67
        }
      },
      "source": [
        "train_data_dir = '/content/drive/My Drive/me/train'  \n",
        "validation_data_dir = '/content/drive/My Drive/me/validation'  \n",
        "test_data_dir = '/content/drive/My Drive/me/test'\n",
        "print(train_data_dir)\n",
        "print(len(validation_data_dir))\n",
        "print(len(test_data_dir))"
      ],
      "execution_count": 70,
      "outputs": [
        {
          "output_type": "stream",
          "text": [
            "/content/drive/My Drive/me/train\n",
            "37\n",
            "31\n"
          ],
          "name": "stdout"
        }
      ]
    },
    {
      "cell_type": "code",
      "metadata": {
        "id": "Z2X4KMQhvtPA",
        "colab_type": "code",
        "colab": {}
      },
      "source": [
        "from keras.preprocessing.image import ImageDataGenerator"
      ],
      "execution_count": 0,
      "outputs": []
    },
    {
      "cell_type": "code",
      "metadata": {
        "id": "Q9Xk6w6-vy9M",
        "colab_type": "code",
        "colab": {}
      },
      "source": [
        "batch_size=20\n",
        "train_datagen =  ImageDataGenerator(\n",
        "      rescale=1./255,\n",
        "      rotation_range=40,\n",
        "      width_shift_range=0.2,\n",
        "      height_shift_range=0.2,\n",
        "      zoom_range=0.2,\n",
        "      horizontal_flip=True,\n",
        "      vertical_flip=True\n",
        "    )"
      ],
      "execution_count": 0,
      "outputs": []
    },
    {
      "cell_type": "code",
      "metadata": {
        "id": "ryDDOiw9v7ce",
        "colab_type": "code",
        "colab": {}
      },
      "source": [
        "test_datagen=ImageDataGenerator(rescale=1./255)\n"
      ],
      "execution_count": 0,
      "outputs": []
    },
    {
      "cell_type": "code",
      "metadata": {
        "id": "cNLvbtZbwMCT",
        "colab_type": "code",
        "outputId": "80d13a5d-3216-4840-f1be-ab1cb5894eeb",
        "colab": {
          "base_uri": "https://localhost:8080/",
          "height": 50
        }
      },
      "source": [
        "train_generator = train_datagen.flow_from_directory(train_data_dir, \n",
        "                                                    target_size=(150, 150), \n",
        "                                                    batch_size=batch_size)\n",
        "validation_generator = test_datagen.flow_from_directory(validation_data_dir, \n",
        "                                                    target_size=(150, 150), \n",
        "                                                    batch_size=batch_size)"
      ],
      "execution_count": 74,
      "outputs": [
        {
          "output_type": "stream",
          "text": [
            "Found 298 images belonging to 2 classes.\n",
            "Found 74 images belonging to 2 classes.\n"
          ],
          "name": "stdout"
        }
      ]
    },
    {
      "cell_type": "code",
      "metadata": {
        "id": "AQUpTCEm1GiK",
        "colab_type": "code",
        "colab": {}
      },
      "source": [
        "from keras.applications import VGG16\n",
        "HEIGHT = 150\n",
        "WIDTH = 150\n",
        "base_model = VGG16(weights='imagenet', \n",
        "                      include_top=False, \n",
        "                      input_shape=(HEIGHT, WIDTH, 3))"
      ],
      "execution_count": 0,
      "outputs": []
    },
    {
      "cell_type": "code",
      "metadata": {
        "id": "6xWbhUUI1QqK",
        "colab_type": "code",
        "colab": {}
      },
      "source": [
        "import numpy as np\n"
      ],
      "execution_count": 0,
      "outputs": []
    },
    {
      "cell_type": "code",
      "metadata": {
        "id": "r4xY8yxa1VaO",
        "colab_type": "code",
        "colab": {}
      },
      "source": [
        "from keras.layers import Dense, Activation, Flatten, Dropout,BatchNormalization\n",
        "from keras.models import Sequential, Model"
      ],
      "execution_count": 0,
      "outputs": []
    },
    {
      "cell_type": "code",
      "metadata": {
        "id": "Vhhk3WFlKlUH",
        "colab_type": "code",
        "colab": {}
      },
      "source": [
        "def dense_block(units, activation='relu', name='fc1'):\n",
        "\n",
        "    def layer_wrapper(inp):\n",
        "        x = Dense(units, name=name)(inp)\n",
        "        x = BatchNormalization(name='{}_bn'.format(name))(x)\n",
        "        x = Activation(activation, name='{}_act'.format(name))(x)\n",
        "        return x\n",
        "\n",
        "    return layer_wrapper"
      ],
      "execution_count": 0,
      "outputs": []
    },
    {
      "cell_type": "code",
      "metadata": {
        "id": "-eYXKGc61aL9",
        "colab_type": "code",
        "colab": {}
      },
      "source": [
        "def build_finetune_model(base_model, fc_layers, num_classes):\n",
        "    for layer in base_model.layers:\n",
        "        layer.trainable = False\n",
        "    x = base_model.output\n",
        "    x = Flatten()(x)\n",
        "    #for fc in fc_layers:\n",
        "        # New FC layer, random init\n",
        "    x = dense_block(512, activation='relu', name='fc1')(x)\n",
        "       # x = Dropout(dropout)(x)\n",
        "    x = dense_block(512, activation='relu', name='fc2')(x)\n",
        "    # New softmax layer\n",
        "    predictions = Dense(num_classes, activation='softmax')(x) \n",
        "    \n",
        "    finetune_model = Model(inputs=base_model.input, outputs=predictions)\n",
        "\n",
        "    return finetune_model"
      ],
      "execution_count": 0,
      "outputs": []
    },
    {
      "cell_type": "code",
      "metadata": {
        "id": "jEQjqM-e1fqc",
        "colab_type": "code",
        "colab": {}
      },
      "source": [
        "class_list = [\"healthy\", \"glaucoma\"]\n",
        "FC_LAYERS = [1024, 1024]\n",
        "#dropout = 0.5\n",
        "finetune_model = build_finetune_model(base_model, \n",
        "                                      fc_layers=FC_LAYERS, \n",
        "                                      num_classes=len(class_list))"
      ],
      "execution_count": 0,
      "outputs": []
    },
    {
      "cell_type": "code",
      "metadata": {
        "id": "_KZCCO5z1njc",
        "colab_type": "code",
        "outputId": "f995b2cb-1122-4467-8c6a-7df8c4a5ee07",
        "colab": {
          "base_uri": "https://localhost:8080/",
          "height": 353
        }
      },
      "source": [
        "from keras.optimizers import SGD, Adam\n",
        "NUM_EPOCHS = 10\n",
        "BATCH_SIZE = 8\n",
        "num_train_images = 10000\n",
        "adam = Adam(lr=0.001)\n",
        "finetune_model.compile(adam, loss='categorical_crossentropy', metrics=['accuracy'])\n",
        "filepath=\"./checkpoints/\" + \"VGG16\" + \"_model_weights.h5\"\n",
        "#checkpoint = ModelCheckpoint(filepath, monitor=[\"acc\"], verbose=1, mode='max')\n",
        "#callbacks_list = [checkpoint]\n",
        "history = finetune_model.fit_generator(train_generator, epochs=NUM_EPOCHS, workers=8, \n",
        "                                       steps_per_epoch=num_train_images // BATCH_SIZE, \n",
        "                                       shuffle=True)\n",
        "#history=finetune_model.fit_generator(train_generator, steps_per_epoch=100,epochs=10, \n",
        "                                       #validation_data=validation_generator,\n",
        "                                       #validation_steps=50)"
      ],
      "execution_count": 83,
      "outputs": [
        {
          "output_type": "stream",
          "text": [
            "Epoch 1/10\n",
            "1250/1250 [==============================] - 285s 228ms/step - loss: 0.0687 - acc: 0.9749\n",
            "Epoch 2/10\n",
            "1250/1250 [==============================] - 284s 227ms/step - loss: 0.0646 - acc: 0.9762\n",
            "Epoch 3/10\n",
            "1250/1250 [==============================] - 284s 227ms/step - loss: 0.0600 - acc: 0.9784\n",
            "Epoch 4/10\n",
            "1250/1250 [==============================] - 284s 227ms/step - loss: 0.0606 - acc: 0.9780\n",
            "Epoch 5/10\n",
            "1250/1250 [==============================] - 283s 226ms/step - loss: 0.0545 - acc: 0.9807\n",
            "Epoch 6/10\n",
            "1250/1250 [==============================] - 283s 227ms/step - loss: 0.0496 - acc: 0.9818\n",
            "Epoch 7/10\n",
            "1250/1250 [==============================] - 283s 226ms/step - loss: 0.0493 - acc: 0.9833\n",
            "Epoch 8/10\n",
            "1250/1250 [==============================] - 283s 227ms/step - loss: 0.0465 - acc: 0.9840\n",
            "Epoch 9/10\n",
            "1250/1250 [==============================] - 283s 227ms/step - loss: 0.0446 - acc: 0.9842\n",
            "Epoch 10/10\n",
            "1250/1250 [==============================] - 284s 227ms/step - loss: 0.0410 - acc: 0.9859\n"
          ],
          "name": "stdout"
        }
      ]
    },
    {
      "cell_type": "code",
      "metadata": {
        "id": "hVP3G561NKYe",
        "colab_type": "code",
        "colab": {}
      },
      "source": [
        "base_model.trainable=True"
      ],
      "execution_count": 0,
      "outputs": []
    },
    {
      "cell_type": "code",
      "metadata": {
        "id": "WPtZ44ADPvWx",
        "colab_type": "code",
        "colab": {}
      },
      "source": [
        "set_trainable=False\n",
        "for layer in base_model.layers:\n",
        "  if layer.name=='block5_conve1':\n",
        "    set_trainable==True\n",
        "    if set_trainable:\n",
        "      layer.trainable=True\n",
        "    else:\n",
        "        layer.trainable=False"
      ],
      "execution_count": 0,
      "outputs": []
    },
    {
      "cell_type": "code",
      "metadata": {
        "id": "I9LCY4W0Qx3s",
        "colab_type": "code",
        "colab": {
          "base_uri": "https://localhost:8080/",
          "height": 689
        },
        "outputId": "4ea0675e-f1b8-4585-bb7f-ca08abc3fcee"
      },
      "source": [
        "finetune_model.compile(SGD(lr=0.0001),loss='categorical_crossentropy',metrics=['acc'])\n",
        "history=finetune_model.fit_generator(train_generator, steps_per_epoch=100,epochs=20, \n",
        "                                       validation_data=validation_generator,\n",
        "                                       validation_steps=50)"
      ],
      "execution_count": 86,
      "outputs": [
        {
          "output_type": "stream",
          "text": [
            "Epoch 1/20\n",
            "100/100 [==============================] - 41s 412ms/step - loss: 0.0312 - acc: 0.9894 - val_loss: 1.3817 - val_acc: 0.7866\n",
            "Epoch 2/20\n",
            "100/100 [==============================] - 37s 375ms/step - loss: 0.0500 - acc: 0.9840 - val_loss: 1.5024 - val_acc: 0.7809\n",
            "Epoch 3/20\n",
            "100/100 [==============================] - 38s 376ms/step - loss: 0.0448 - acc: 0.9854 - val_loss: 1.4951 - val_acc: 0.7834\n",
            "Epoch 4/20\n",
            "100/100 [==============================] - 37s 374ms/step - loss: 0.0406 - acc: 0.9889 - val_loss: 1.5619 - val_acc: 0.7972\n",
            "Epoch 5/20\n",
            "100/100 [==============================] - 37s 375ms/step - loss: 0.0343 - acc: 0.9849 - val_loss: 1.5430 - val_acc: 0.7974\n",
            "Epoch 6/20\n",
            "100/100 [==============================] - 37s 375ms/step - loss: 0.0537 - acc: 0.9764 - val_loss: 1.5253 - val_acc: 0.7972\n",
            "Epoch 7/20\n",
            "100/100 [==============================] - 37s 374ms/step - loss: 0.0480 - acc: 0.9834 - val_loss: 1.5257 - val_acc: 0.7834\n",
            "Epoch 8/20\n",
            "100/100 [==============================] - 37s 374ms/step - loss: 0.0534 - acc: 0.9804 - val_loss: 1.4803 - val_acc: 0.7842\n",
            "Epoch 9/20\n",
            "100/100 [==============================] - 38s 377ms/step - loss: 0.0343 - acc: 0.9868 - val_loss: 1.5072 - val_acc: 0.7834\n",
            "Epoch 10/20\n",
            "100/100 [==============================] - 38s 375ms/step - loss: 0.0475 - acc: 0.9823 - val_loss: 1.4930 - val_acc: 0.7842\n",
            "Epoch 11/20\n",
            "100/100 [==============================] - 37s 374ms/step - loss: 0.0475 - acc: 0.9819 - val_loss: 1.5559 - val_acc: 0.7974\n",
            "Epoch 12/20\n",
            "100/100 [==============================] - 37s 375ms/step - loss: 0.0448 - acc: 0.9834 - val_loss: 1.5238 - val_acc: 0.7972\n",
            "Epoch 13/20\n",
            "100/100 [==============================] - 38s 378ms/step - loss: 0.0535 - acc: 0.9803 - val_loss: 1.5538 - val_acc: 0.7942\n",
            "Epoch 14/20\n",
            "100/100 [==============================] - 38s 377ms/step - loss: 0.0439 - acc: 0.9848 - val_loss: 1.5143 - val_acc: 0.8004\n",
            "Epoch 15/20\n",
            "100/100 [==============================] - 38s 379ms/step - loss: 0.0505 - acc: 0.9824 - val_loss: 1.5513 - val_acc: 0.7974\n",
            "Epoch 16/20\n",
            "100/100 [==============================] - 37s 374ms/step - loss: 0.0466 - acc: 0.9829 - val_loss: 1.5645 - val_acc: 0.7972\n",
            "Epoch 17/20\n",
            "100/100 [==============================] - 38s 378ms/step - loss: 0.0489 - acc: 0.9859 - val_loss: 1.5581 - val_acc: 0.7974\n",
            "Epoch 18/20\n",
            "100/100 [==============================] - 38s 376ms/step - loss: 0.0404 - acc: 0.9874 - val_loss: 1.5222 - val_acc: 0.7972\n",
            "Epoch 19/20\n",
            "100/100 [==============================] - 38s 377ms/step - loss: 0.0417 - acc: 0.9833 - val_loss: 1.5793 - val_acc: 0.7931\n",
            "Epoch 20/20\n",
            "100/100 [==============================] - 38s 375ms/step - loss: 0.0296 - acc: 0.9883 - val_loss: 1.4928 - val_acc: 0.8015\n"
          ],
          "name": "stdout"
        }
      ]
    },
    {
      "cell_type": "code",
      "metadata": {
        "id": "tN2E6eSn9j-w",
        "colab_type": "code",
        "colab": {}
      },
      "source": [
        "import matplotlib.pyplot as plt\n"
      ],
      "execution_count": 0,
      "outputs": []
    },
    {
      "cell_type": "code",
      "metadata": {
        "id": "jWypXPWc9m3J",
        "colab_type": "code",
        "outputId": "937e9e82-1dcb-407c-f187-f411fcaefcae",
        "colab": {
          "base_uri": "https://localhost:8080/",
          "height": 298
        }
      },
      "source": [
        "acc=history.history['acc']\n",
        "#val_acc=history.history['val_acc']\n",
        "loss=history.history['loss']\n",
        "#val_loss=history.history['val_loss']\n",
        "epoch=range(1,len(acc)+1)\n",
        "plt.plot(epoch,acc,'bo',label='training acc')\n",
        "#plt.plot(epoch,val_acc,'b',label='validation acc')\n",
        "plt.title('training and val acc')\n",
        "plt.legend()\n",
        "plt.figure()\n",
        "plt.show()"
      ],
      "execution_count": 88,
      "outputs": [
        {
          "output_type": "display_data",
          "data": {
            "image/png": "[encoded data removed]",
            "text/plain": [
              "<Figure size 432x288 with 1 Axes>"
            ]
          },
          "metadata": {
            "tags": []
          }
        },
        {
          "output_type": "display_data",
          "data": {
            "text/plain": [
              "<Figure size 432x288 with 0 Axes>"
            ]
          },
          "metadata": {
            "tags": []
          }
        }
      ]
    },
    {
      "cell_type": "code",
      "metadata": {
        "id": "MDYoHHp0sZSk",
        "colab_type": "code",
        "colab": {}
      },
      "source": [
        "from skimage import io"
      ],
      "execution_count": 0,
      "outputs": []
    },
    {
      "cell_type": "code",
      "metadata": {
        "id": "g5O1W7yqjZck",
        "colab_type": "code",
        "colab": {}
      },
      "source": [
        "y='/content/drive/My Drive/riga1'\n"
      ],
      "execution_count": 0,
      "outputs": []
    },
    {
      "cell_type": "code",
      "metadata": {
        "id": "kCwb2V3PlPbs",
        "colab_type": "code",
        "colab": {}
      },
      "source": [
        "import pandas as pd"
      ],
      "execution_count": 0,
      "outputs": []
    },
    {
      "cell_type": "code",
      "metadata": {
        "id": "6C64Exn9lZLi",
        "colab_type": "code",
        "colab": {}
      },
      "source": [
        "from sklearn.metrics import accuracy_score\n",
        "import numpy as np\n",
        "import matplotlib.pyplot as plt\n",
        "from matplotlib.colors import ListedColormap\n"
      ],
      "execution_count": 0,
      "outputs": []
    },
    {
      "cell_type": "code",
      "metadata": {
        "id": "HgUwwHRYlft_",
        "colab_type": "code",
        "colab": {
          "base_uri": "https://localhost:8080/",
          "height": 195
        },
        "outputId": "5cf9b6c8-bd8c-457e-a630-5d3d6866e3eb"
      },
      "source": [
        " y_pred = finetune_model.predict(y)\n",
        "    # calculate the accuracy score\n",
        "    \n"
      ],
      "execution_count": 1,
      "outputs": [
        {
          "output_type": "error",
          "ename": "NameError",
          "evalue": "ignored",
          "traceback": [
            "\u001b[0;31m---------------------------------------------------------------------------\u001b[0m",
            "\u001b[0;31mNameError\u001b[0m                                 Traceback (most recent call last)",
            "\u001b[0;32m<ipython-input-1-d2a0e47fc023>\u001b[0m in \u001b[0;36m<module>\u001b[0;34m()\u001b[0m\n\u001b[0;32m----> 1\u001b[0;31m \u001b[0my_pred\u001b[0m \u001b[0;34m=\u001b[0m \u001b[0mfinetune_model\u001b[0m\u001b[0;34m.\u001b[0m\u001b[0mpredict\u001b[0m\u001b[0;34m(\u001b[0m\u001b[0my\u001b[0m\u001b[0;34m)\u001b[0m\u001b[0;34m\u001b[0m\u001b[0;34m\u001b[0m\u001b[0m\n\u001b[0m\u001b[1;32m      2\u001b[0m    \u001b[0;31m# calculate the accuracy score\u001b[0m\u001b[0;34m\u001b[0m\u001b[0;34m\u001b[0m\u001b[0;34m\u001b[0m\u001b[0m\n\u001b[1;32m      3\u001b[0m \u001b[0;34m\u001b[0m\u001b[0m\n",
            "\u001b[0;31mNameError\u001b[0m: name 'finetune_model' is not defined"
          ]
        }
      ]
    },
    {
      "cell_type": "code",
      "metadata": {
        "id": "H4zdwRZzlqox",
        "colab_type": "code",
        "colab": {}
      },
      "source": [
        "from sklearn.neural_network import MLPClassifier\n",
        "\n",
        "model = MLPClassifier()\n",
        "run_model(model, \" MLP Neural network \", 8)"
      ],
      "execution_count": 0,
      "outputs": []
    }
  ]
}